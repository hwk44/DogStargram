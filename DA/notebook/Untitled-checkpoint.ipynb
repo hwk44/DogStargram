{
 "cells": [
  {
   "cell_type": "code",
   "execution_count": null,
   "id": "df9f114c-fb05-491c-bade-cd268bca7ddb",
   "metadata": {},
   "outputs": [],
   "source": [
    "import csv\n",
    "import pandas as pd"
   ]
  },
  {
   "cell_type": "code",
   "execution_count": null,
   "id": "74274faf-b80e-4e2b-89e5-28abd782d5e0",
   "metadata": {},
   "outputs": [],
   "source": [
    "#데이터 가져오기\n",
    "labels = pd.read_csv(\"./DA/data/labels.csv\")\n",
    "labels.head()"
   ]
  },
  {
   "cell_type": "code",
   "execution_count": null,
   "id": "6947beb2-efcc-4a97-9fc1-990c53cc1235",
   "metadata": {},
   "outputs": [],
   "source": [
    "#이미지 파일 데이터 라벨에 집어넣기\n",
    "filePath = './DA/data/train/'\n",
    "f = lambda x: filePath + x + '.jpg'\n",
    "\n",
    "labels['imgpath'] = labels['id'].apply(f)"
   ]
  },
  {
   "cell_type": "code",
   "execution_count": null,
   "id": "754695ec-686d-4a5a-b390-f9faecfad034",
   "metadata": {
    "scrolled": true
   },
   "outputs": [],
   "source": [
    "labels.head()"
   ]
  },
  {
   "cell_type": "code",
   "execution_count": null,
   "id": "bcda03b5-9919-4124-8354-a570bc5d3a82",
   "metadata": {},
   "outputs": [],
   "source": [
    "from PIL import Image\n",
    "import os\n",
    "\n",
    "#이미지 객로로 변환\n",
    "def load_image(img_path, target_size):\n",
    "    img = Image.open(img_path)\n",
    "    img = img.resize(target_size) #이미지 크기\n",
    "    return img\n",
    "\n",
    "#데이터 프레임의 이미지 파일 경로 사용하여 이미지로드하고 객체전환\n",
    "target_size = (100, 100)\n",
    "labels['image_path'] = labels['imgpath'] #새로운열로 이미지저장\n",
    "labels['image'] = labels['image_path'].apply(lambda x: load_image(x, target_size)) #apply 행에 함수를 적용하고 결과를 반환\n",
    "\n",
    "#데이터 프레임 저장시 이미지 열제거\n",
    "labels.drop('image_path', axis=1, inplace=True)\n",
    "\n",
    "#이미지 객체를 별도의 이미지 파일로 저장"
   ]
  },
  {
   "cell_type": "code",
   "execution_count": 35,
   "id": "e14917ba-358d-4ca8-9def-5b53b406b3af",
   "metadata": {},
   "outputs": [
    {
     "data": {
      "text/html": [
       "<div>\n",
       "<style scoped>\n",
       "    .dataframe tbody tr th:only-of-type {\n",
       "        vertical-align: middle;\n",
       "    }\n",
       "\n",
       "    .dataframe tbody tr th {\n",
       "        vertical-align: top;\n",
       "    }\n",
       "\n",
       "    .dataframe thead th {\n",
       "        text-align: right;\n",
       "    }\n",
       "</style>\n",
       "<table border=\"1\" class=\"dataframe\">\n",
       "  <thead>\n",
       "    <tr style=\"text-align: right;\">\n",
       "      <th></th>\n",
       "      <th>id</th>\n",
       "      <th>breed</th>\n",
       "      <th>imgpath</th>\n",
       "      <th>image</th>\n",
       "    </tr>\n",
       "  </thead>\n",
       "  <tbody>\n",
       "    <tr>\n",
       "      <th>0</th>\n",
       "      <td>000bec180eb18c7604dcecc8fe0dba07</td>\n",
       "      <td>boston_bull</td>\n",
       "      <td>./DA/data/train/000bec180eb18c7604dcecc8fe0dba...</td>\n",
       "      <td>&lt;PIL.Image.Image image mode=RGB size=100x100 a...</td>\n",
       "    </tr>\n",
       "    <tr>\n",
       "      <th>1</th>\n",
       "      <td>001513dfcb2ffafc82cccf4d8bbaba97</td>\n",
       "      <td>dingo</td>\n",
       "      <td>./DA/data/train/001513dfcb2ffafc82cccf4d8bbaba...</td>\n",
       "      <td>&lt;PIL.Image.Image image mode=RGB size=100x100 a...</td>\n",
       "    </tr>\n",
       "    <tr>\n",
       "      <th>2</th>\n",
       "      <td>001cdf01b096e06d78e9e5112d419397</td>\n",
       "      <td>pekinese</td>\n",
       "      <td>./DA/data/train/001cdf01b096e06d78e9e5112d4193...</td>\n",
       "      <td>&lt;PIL.Image.Image image mode=RGB size=100x100 a...</td>\n",
       "    </tr>\n",
       "    <tr>\n",
       "      <th>3</th>\n",
       "      <td>00214f311d5d2247d5dfe4fe24b2303d</td>\n",
       "      <td>bluetick</td>\n",
       "      <td>./DA/data/train/00214f311d5d2247d5dfe4fe24b230...</td>\n",
       "      <td>&lt;PIL.Image.Image image mode=RGB size=100x100 a...</td>\n",
       "    </tr>\n",
       "    <tr>\n",
       "      <th>4</th>\n",
       "      <td>0021f9ceb3235effd7fcde7f7538ed62</td>\n",
       "      <td>golden_retriever</td>\n",
       "      <td>./DA/data/train/0021f9ceb3235effd7fcde7f7538ed...</td>\n",
       "      <td>&lt;PIL.Image.Image image mode=RGB size=100x100 a...</td>\n",
       "    </tr>\n",
       "  </tbody>\n",
       "</table>\n",
       "</div>"
      ],
      "text/plain": [
       "                                 id             breed  \\\n",
       "0  000bec180eb18c7604dcecc8fe0dba07       boston_bull   \n",
       "1  001513dfcb2ffafc82cccf4d8bbaba97             dingo   \n",
       "2  001cdf01b096e06d78e9e5112d419397          pekinese   \n",
       "3  00214f311d5d2247d5dfe4fe24b2303d          bluetick   \n",
       "4  0021f9ceb3235effd7fcde7f7538ed62  golden_retriever   \n",
       "\n",
       "                                             imgpath  \\\n",
       "0  ./DA/data/train/000bec180eb18c7604dcecc8fe0dba...   \n",
       "1  ./DA/data/train/001513dfcb2ffafc82cccf4d8bbaba...   \n",
       "2  ./DA/data/train/001cdf01b096e06d78e9e5112d4193...   \n",
       "3  ./DA/data/train/00214f311d5d2247d5dfe4fe24b230...   \n",
       "4  ./DA/data/train/0021f9ceb3235effd7fcde7f7538ed...   \n",
       "\n",
       "                                               image  \n",
       "0  <PIL.Image.Image image mode=RGB size=100x100 a...  \n",
       "1  <PIL.Image.Image image mode=RGB size=100x100 a...  \n",
       "2  <PIL.Image.Image image mode=RGB size=100x100 a...  \n",
       "3  <PIL.Image.Image image mode=RGB size=100x100 a...  \n",
       "4  <PIL.Image.Image image mode=RGB size=100x100 a...  "
      ]
     },
     "execution_count": 35,
     "metadata": {},
     "output_type": "execute_result"
    }
   ],
   "source": [
    "labels.head()"
   ]
  },
  {
   "cell_type": "code",
   "execution_count": null,
   "id": "3eca550e-7c39-4ec7-adcb-c5387b599d0b",
   "metadata": {},
   "outputs": [],
   "source": [
    "#이미지 확인해보기\n",
    "import matplotlib.pyplot as plt\n",
    "image = labels['image'].iloc[0]\n",
    "\n",
    "plt.imshow(image)\n",
    "plt.axis('off') # 축 끄기\n",
    "plt.show()"
   ]
  },
  {
   "cell_type": "code",
   "execution_count": null,
   "id": "96be2fc4-85cd-4eb3-bf69-d7c18bd36e2d",
   "metadata": {},
   "outputs": [],
   "source": [
    "#데이터 전처리\n",
    "# 데이터프레임의 이미지를 배열로 변환\n",
    "X = np.array([np.array(img) for img in labels['image']])\n",
    "#X_train = labels['image'].values / 255\n",
    "X = X_train / 255.0"
   ]
  },
  {
   "cell_type": "code",
   "execution_count": null,
   "id": "ad069dba-7125-46ef-97f6-521b867edd67",
   "metadata": {},
   "outputs": [],
   "source": [
    "# Y 만들기\n",
    "from sklearn.preprocessing import LabelEncoder\n",
    "\n",
    "# 라벨인코딩\n",
    "label_encoder = LabelEncoder()\n",
    "y = label_encoder.fit_transform(labels['breed'])\n",
    "\n",
    "# 클래스 개수 확인\n",
    "num_classes = len(label_encoder.classes_)"
   ]
  },
  {
   "cell_type": "code",
   "execution_count": 51,
   "id": "7e438d71-67bd-4ba6-813d-a19c172a8d60",
   "metadata": {},
   "outputs": [
    {
     "name": "stdout",
     "output_type": "stream",
     "text": [
      "120\n"
     ]
    }
   ],
   "source": [
    "print(num_classes)"
   ]
  },
  {
   "cell_type": "code",
   "execution_count": null,
   "id": "c9506f61-d53f-4d07-8ed2-eafd3098422c",
   "metadata": {},
   "outputs": [],
   "source": [
    "from tensorflow import keras\n",
    "from tensorflow.keras import layers\n",
    "\n",
    "image_height = 100  # 이미지 높이\n",
    "image_width = 100  # 이미지 너비\n",
    "channels = 3  # 이미지 채널 수 (RGB 이미지의 경우 3)\n",
    "\n",
    "# CNN 모델 구성\n",
    "model = keras.Sequential([\n",
    "    layers.Conv2D(32, kernel_size=(3, 3), activation='relu', input_shape=(image_height, image_width, channels)),\n",
    "    layers.MaxPooling2D(pool_size=(2, 2)),\n",
    "    layers.Conv2D(64, kernel_size=(3, 3), activation='relu'),\n",
    "    layers.MaxPooling2D(pool_size=(2, 2)),\n",
    "    layers.Flatten(),\n",
    "    layers.Dense(128, activation='relu'),\n",
    "    layers.Dense(num_classes, activation='softmax')\n",
    "])\n",
    "\n",
    "# 모델 컴파일\n",
    "model.compile(optimizer='adam', loss='sparse_categorical_crossentropy', metrics=['accuracy'])\n",
    "\n",
    "# 모델 학습\n",
    "model.fit(X, y, batch_size=32, epochs=10, validation_split=0.2)\n"
   ]
  },
  {
   "cell_type": "code",
   "execution_count": null,
   "id": "7a7ed3bf-554c-463c-bedf-6967bfb9da99",
   "metadata": {},
   "outputs": [],
   "source": []
  },
  {
   "cell_type": "code",
   "execution_count": null,
   "id": "30ed0a1d-6ec7-4cd6-9bea-79e860a731f2",
   "metadata": {},
   "outputs": [],
   "source": []
  },
  {
   "cell_type": "code",
   "execution_count": null,
   "id": "c3f2a9cb-d2ce-4932-87d5-b9d87385ca08",
   "metadata": {},
   "outputs": [],
   "source": []
  },
  {
   "cell_type": "code",
   "execution_count": null,
   "id": "9834f904-e03e-49b1-be46-c2d32fabfea0",
   "metadata": {},
   "outputs": [],
   "source": []
  },
  {
   "cell_type": "code",
   "execution_count": null,
   "id": "c809e2c6-d07c-40bd-ad16-8cd57a54267d",
   "metadata": {},
   "outputs": [],
   "source": []
  }
 ],
 "metadata": {
  "kernelspec": {
   "display_name": "Python 3 (ipykernel)",
   "language": "python",
   "name": "python3"
  },
  "language_info": {
   "codemirror_mode": {
    "name": "ipython",
    "version": 3
   },
   "file_extension": ".py",
   "mimetype": "text/x-python",
   "name": "python",
   "nbconvert_exporter": "python",
   "pygments_lexer": "ipython3",
   "version": "3.9.13"
  }
 },
 "nbformat": 4,
 "nbformat_minor": 5
}
